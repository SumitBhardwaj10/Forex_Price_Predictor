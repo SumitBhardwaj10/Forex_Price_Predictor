{
 "cells": [
  {
   "cell_type": "code",
   "execution_count": 10,
   "id": "75c6b48f-2024-4e4e-b1eb-9fbe74c07d36",
   "metadata": {},
   "outputs": [],
   "source": [
    "import pandas as pd\n",
    "import numpy as np\n",
    "%matplotlib inline\n",
    "import matplotlib.pyplot as plt\n",
    "import seaborn as sns\n",
    "import datetime\n",
    "import ta\n",
    "from ta.trend import EMAIndicator\n",
    "from ta.momentum import RSIIndicator\n",
    "from ta.volatility import BollingerBands\n",
    "from sklearn.preprocessing import MinMaxScaler\n",
    "import warnings\n",
    "warnings.filterwarnings(\"ignore\")\n",
    "import tensorflow as tf\n",
    "import joblib\n",
    "from tensorflow import keras"
   ]
  },
  {
   "cell_type": "code",
   "execution_count": 11,
   "id": "7ee23d1d-fb9f-4204-8b8f-7e9909987f9f",
   "metadata": {},
   "outputs": [],
   "source": [
    "class DataLoader:\n",
    "    def __init__(self,path):\n",
    "        self.path=path\n",
    "        \n",
    "    @staticmethod\n",
    "    def succesfull():\n",
    "        print(\"✅Data Loaded succesfully\")\n",
    "        \n",
    "    def load_data(self):\n",
    "        data=pd.read_csv(self.path,sep=\"\\t\",names=[\"date\",\"open\",\"high\",\"low\",\"close\",\"volume\"])\n",
    "        data[\"date\"]=pd.to_datetime(data[\"date\"],format=\"%Y-%m-%d %H:%M\")\n",
    "        data.set_index(\"date\",inplace=True)\n",
    "        self.succesfull()\n",
    "        print(\"👾Shape of Data : \",data.shape)\n",
    "        return data\n",
    "\n",
    "class Features:\n",
    "   \n",
    "    @staticmethod\n",
    "    def succesfull():\n",
    "        print(\"✅Features Created succesfully\")\n",
    "        \n",
    "    def make_features(self,data):\n",
    "        data[\"ema\"]=EMAIndicator(data[\"close\"],window=21).ema_indicator()\n",
    "        data[\"rsi\"]=RSIIndicator(data[\"close\"],window=13).rsi()\n",
    "        bb=BollingerBands(data[\"close\"])\n",
    "        data[\"uperband\"]=bb.bollinger_hband()\n",
    "        data[\"lowerband\"]=bb.bollinger_lband()\n",
    "        data[\"bb_avg\"]=bb.bollinger_mavg()\n",
    "        data[\"mean_price\"]=data[\"close\"].rolling(13).mean()\n",
    "        candle_mean=(data[\"high\"]-data[\"low\"]).mean()\n",
    "        data[\"candle_strentgh\"]=(data[\"high\"]-data[\"low\"])/candle_mean\n",
    "        \n",
    "        data.dropna(inplace=True)\n",
    "        data.drop([\"open\",\"high\",\"low\"],axis=1,inplace=True)\n",
    "        print(\"🏹 Shape Now is : \",data.shape)\n",
    "        return data\n",
    "\n",
    "class Scaling_Timeteps:\n",
    "    \n",
    "    @staticmethod\n",
    "    def succesfull1():\n",
    "        print(\"✅Data Scaled succesfully\")\n",
    "    @staticmethod\n",
    "    def succesfull2():\n",
    "        print(\"✅Timestep Added succesfully\")\n",
    "        \n",
    "    def start_scaling(self,data,timesteps,future):\n",
    "        print(\"-\"*50)\n",
    "        print(\"🔎 All features : \",data.columns)\n",
    "        print(\"-\"*50)\n",
    "        features=data.values\n",
    "        column=data.columns\n",
    "        rest_columns=[]\n",
    "        for idx in range(len(column)):\n",
    "            if column[idx]==\"close\":\n",
    "                forecast=idx\n",
    "            else:\n",
    "                rest_columns.append(idx)\n",
    "        scaler1=MinMaxScaler(feature_range=(0,1))\n",
    "        scaler2=MinMaxScaler(feature_range=(0,1))\n",
    "\n",
    "        split=int(features.shape[0]*0.8)\n",
    "        \n",
    "        \n",
    "        features[:split,forecast]=scaler1.fit_transform(features[:split,forecast].reshape(-1,1)).ravel()\n",
    "        features[split:,forecast]=scaler1.transform(features[split:,forecast].reshape(-1,1)).ravel()\n",
    "        features[:split,rest_columns]=scaler2.fit_transform(features[:split,rest_columns])\n",
    "        features[split:,rest_columns]=scaler2.transform(features[split:,rest_columns])\n",
    "        \n",
    "        \n",
    "        self.succesfull1()\n",
    "        joblib.dump(scaler1,\"gru_target.pkl\")\n",
    "        joblib.dump(scaler2,\"gru_features.pkl\")\n",
    "        print(\"🤹🏻Succesfully stored MinMaxScaler\")\n",
    "        X_new=[]\n",
    "        y_new=[]\n",
    "        for i in range(len(features)-timesteps-future+1):\n",
    "            X_new.append(features[i:i+timesteps])\n",
    "            y_new.append(features[i+timesteps+future-1,forecast])\n",
    "            \n",
    "        self.succesfull2()\n",
    "\n",
    "        X_new=np.array(X_new)\n",
    "        y_new=np.array(y_new)\n",
    "        print(\"❄️Shape of Train Data: \",X_new.shape)\n",
    "        print(\"❄️Shape of Train Target : \",y_new.shape)\n",
    "        \n",
    "        return X_new,y_new\n",
    "\n",
    "class Model_Training:\n",
    "    \n",
    "    def start_training(self,X,y):\n",
    "        split=int(X.shape[0]*0.8)\n",
    "        X_train=X[:split]\n",
    "        X_test=X[split:]\n",
    "        y_train=y[:split]\n",
    "        y_test=y[split:]\n",
    "\n",
    "        shape=X.shape[1:]\n",
    "        model=keras.Sequential()\n",
    "        model.add(keras.layers.GRU(128,activation=\"tanh\",return_sequences=True,input_shape=shape))\n",
    "        model.add(keras.layers.Dropout(0.2))\n",
    "        model.add(keras.layers.GRU(128,activation=\"tanh\",return_sequences=True))\n",
    "        model.add(keras.layers.BatchNormalization())\n",
    "        model.add(keras.layers.GRU(64,activation=\"tanh\",return_sequences=True))\n",
    "        model.add(keras.layers.Dropout(0.2))\n",
    "        model.add(keras.layers.GRU(32,activation=\"tanh\"))\n",
    "\n",
    "        model.add(keras.layers.Dense(64,activation=\"relu\"))\n",
    "        model.add(keras.layers.Dropout(0.2))\n",
    "        model.add(keras.layers.Dense(1,activation=\"linear\"))\n",
    "\n",
    "        model.compile(loss=\"mse\",optimizer=\"adam\",metrics=[\"mae\"])\n",
    "        callbacks=callbacks=tf.keras.callbacks.EarlyStopping(monitor=\"val_loss\",\n",
    "                                          min_delta=0.0001,\n",
    "                                          patience=10,\n",
    "                                          verbose=1,\n",
    "                                          mode=\"min\",restore_best_weights=True)\n",
    "        print(model.summary())\n",
    "        model.fit(X_train,y_train,epochs=50,\n",
    "                           validation_data=(X_test,y_test),callbacks=callbacks)\n",
    "\n",
    "        model.save(\"gru_model.h5\")\n",
    "        print(\"✅Model Succesfully Trained and Store as 'lstm_model.h5' \")"
   ]
  },
  {
   "cell_type": "code",
   "execution_count": 12,
   "id": "d3364964-39cb-4185-89d7-9a95f5168231",
   "metadata": {},
   "outputs": [],
   "source": [
    "def main():\n",
    "    # Loading data from path\n",
    "    loader = DataLoader(\"GBPUSD240.csv\")\n",
    "    df = loader.load_data()\n",
    "    \n",
    "    #Feature Engineering\n",
    "    features=Features()\n",
    "    df=features.make_features(df)\n",
    "\n",
    "    #model\n",
    "    timesteps=100\n",
    "    print(\"_\"*50)\n",
    "    future=1\n",
    "    scaling_timestep=Scaling_Timeteps()\n",
    "    X,y=scaling_timestep.start_scaling(df,timesteps,future)\n",
    "\n",
    "    model_training=Model_Training()\n",
    "    model_training.start_training(X,y)"
   ]
  },
  {
   "cell_type": "code",
   "execution_count": 13,
   "id": "7ce3e194-eecb-4cf8-b8d1-346cd090e793",
   "metadata": {},
   "outputs": [
    {
     "name": "stdout",
     "output_type": "stream",
     "text": [
      "✅Data Loaded succesfully\n",
      "👾Shape of Data :  (25848, 5)\n",
      "🏹 Shape Now is :  (25828, 9)\n",
      "__________________________________________________\n",
      "--------------------------------------------------\n",
      "🔎 All features :  Index(['close', 'volume', 'ema', 'rsi', 'uperband', 'lowerband', 'bb_avg',\n",
      "       'mean_price', 'candle_strentgh'],\n",
      "      dtype='object')\n",
      "--------------------------------------------------\n",
      "✅Data Scaled succesfully\n",
      "🤹🏻Succesfully stored MinMaxScaler\n",
      "✅Timestep Added succesfully\n",
      "❄️Shape of Train Data:  (25728, 100, 9)\n",
      "❄️Shape of Train Target :  (25728,)\n"
     ]
    },
    {
     "data": {
      "text/html": [
       "<pre style=\"white-space:pre;overflow-x:auto;line-height:normal;font-family:Menlo,'DejaVu Sans Mono',consolas,'Courier New',monospace\"><span style=\"font-weight: bold\">Model: \"sequential_1\"</span>\n",
       "</pre>\n"
      ],
      "text/plain": [
       "\u001b[1mModel: \"sequential_1\"\u001b[0m\n"
      ]
     },
     "metadata": {},
     "output_type": "display_data"
    },
    {
     "data": {
      "text/html": [
       "<pre style=\"white-space:pre;overflow-x:auto;line-height:normal;font-family:Menlo,'DejaVu Sans Mono',consolas,'Courier New',monospace\">┏━━━━━━━━━━━━━━━━━━━━━━━━━━━━━━━━━━━━━━┳━━━━━━━━━━━━━━━━━━━━━━━━━━━━━┳━━━━━━━━━━━━━━━━━┓\n",
       "┃<span style=\"font-weight: bold\"> Layer (type)                         </span>┃<span style=\"font-weight: bold\"> Output Shape                </span>┃<span style=\"font-weight: bold\">         Param # </span>┃\n",
       "┡━━━━━━━━━━━━━━━━━━━━━━━━━━━━━━━━━━━━━━╇━━━━━━━━━━━━━━━━━━━━━━━━━━━━━╇━━━━━━━━━━━━━━━━━┩\n",
       "│ gru_4 (<span style=\"color: #0087ff; text-decoration-color: #0087ff\">GRU</span>)                          │ (<span style=\"color: #00d7ff; text-decoration-color: #00d7ff\">None</span>, <span style=\"color: #00af00; text-decoration-color: #00af00\">100</span>, <span style=\"color: #00af00; text-decoration-color: #00af00\">128</span>)            │          <span style=\"color: #00af00; text-decoration-color: #00af00\">53,376</span> │\n",
       "├──────────────────────────────────────┼─────────────────────────────┼─────────────────┤\n",
       "│ dropout_3 (<span style=\"color: #0087ff; text-decoration-color: #0087ff\">Dropout</span>)                  │ (<span style=\"color: #00d7ff; text-decoration-color: #00d7ff\">None</span>, <span style=\"color: #00af00; text-decoration-color: #00af00\">100</span>, <span style=\"color: #00af00; text-decoration-color: #00af00\">128</span>)            │               <span style=\"color: #00af00; text-decoration-color: #00af00\">0</span> │\n",
       "├──────────────────────────────────────┼─────────────────────────────┼─────────────────┤\n",
       "│ gru_5 (<span style=\"color: #0087ff; text-decoration-color: #0087ff\">GRU</span>)                          │ (<span style=\"color: #00d7ff; text-decoration-color: #00d7ff\">None</span>, <span style=\"color: #00af00; text-decoration-color: #00af00\">100</span>, <span style=\"color: #00af00; text-decoration-color: #00af00\">128</span>)            │          <span style=\"color: #00af00; text-decoration-color: #00af00\">99,072</span> │\n",
       "├──────────────────────────────────────┼─────────────────────────────┼─────────────────┤\n",
       "│ batch_normalization_1                │ (<span style=\"color: #00d7ff; text-decoration-color: #00d7ff\">None</span>, <span style=\"color: #00af00; text-decoration-color: #00af00\">100</span>, <span style=\"color: #00af00; text-decoration-color: #00af00\">128</span>)            │             <span style=\"color: #00af00; text-decoration-color: #00af00\">512</span> │\n",
       "│ (<span style=\"color: #0087ff; text-decoration-color: #0087ff\">BatchNormalization</span>)                 │                             │                 │\n",
       "├──────────────────────────────────────┼─────────────────────────────┼─────────────────┤\n",
       "│ gru_6 (<span style=\"color: #0087ff; text-decoration-color: #0087ff\">GRU</span>)                          │ (<span style=\"color: #00d7ff; text-decoration-color: #00d7ff\">None</span>, <span style=\"color: #00af00; text-decoration-color: #00af00\">100</span>, <span style=\"color: #00af00; text-decoration-color: #00af00\">64</span>)             │          <span style=\"color: #00af00; text-decoration-color: #00af00\">37,248</span> │\n",
       "├──────────────────────────────────────┼─────────────────────────────┼─────────────────┤\n",
       "│ dropout_4 (<span style=\"color: #0087ff; text-decoration-color: #0087ff\">Dropout</span>)                  │ (<span style=\"color: #00d7ff; text-decoration-color: #00d7ff\">None</span>, <span style=\"color: #00af00; text-decoration-color: #00af00\">100</span>, <span style=\"color: #00af00; text-decoration-color: #00af00\">64</span>)             │               <span style=\"color: #00af00; text-decoration-color: #00af00\">0</span> │\n",
       "├──────────────────────────────────────┼─────────────────────────────┼─────────────────┤\n",
       "│ gru_7 (<span style=\"color: #0087ff; text-decoration-color: #0087ff\">GRU</span>)                          │ (<span style=\"color: #00d7ff; text-decoration-color: #00d7ff\">None</span>, <span style=\"color: #00af00; text-decoration-color: #00af00\">32</span>)                  │           <span style=\"color: #00af00; text-decoration-color: #00af00\">9,408</span> │\n",
       "├──────────────────────────────────────┼─────────────────────────────┼─────────────────┤\n",
       "│ dense_2 (<span style=\"color: #0087ff; text-decoration-color: #0087ff\">Dense</span>)                      │ (<span style=\"color: #00d7ff; text-decoration-color: #00d7ff\">None</span>, <span style=\"color: #00af00; text-decoration-color: #00af00\">64</span>)                  │           <span style=\"color: #00af00; text-decoration-color: #00af00\">2,112</span> │\n",
       "├──────────────────────────────────────┼─────────────────────────────┼─────────────────┤\n",
       "│ dropout_5 (<span style=\"color: #0087ff; text-decoration-color: #0087ff\">Dropout</span>)                  │ (<span style=\"color: #00d7ff; text-decoration-color: #00d7ff\">None</span>, <span style=\"color: #00af00; text-decoration-color: #00af00\">64</span>)                  │               <span style=\"color: #00af00; text-decoration-color: #00af00\">0</span> │\n",
       "├──────────────────────────────────────┼─────────────────────────────┼─────────────────┤\n",
       "│ dense_3 (<span style=\"color: #0087ff; text-decoration-color: #0087ff\">Dense</span>)                      │ (<span style=\"color: #00d7ff; text-decoration-color: #00d7ff\">None</span>, <span style=\"color: #00af00; text-decoration-color: #00af00\">1</span>)                   │              <span style=\"color: #00af00; text-decoration-color: #00af00\">65</span> │\n",
       "└──────────────────────────────────────┴─────────────────────────────┴─────────────────┘\n",
       "</pre>\n"
      ],
      "text/plain": [
       "┏━━━━━━━━━━━━━━━━━━━━━━━━━━━━━━━━━━━━━━┳━━━━━━━━━━━━━━━━━━━━━━━━━━━━━┳━━━━━━━━━━━━━━━━━┓\n",
       "┃\u001b[1m \u001b[0m\u001b[1mLayer (type)                        \u001b[0m\u001b[1m \u001b[0m┃\u001b[1m \u001b[0m\u001b[1mOutput Shape               \u001b[0m\u001b[1m \u001b[0m┃\u001b[1m \u001b[0m\u001b[1m        Param #\u001b[0m\u001b[1m \u001b[0m┃\n",
       "┡━━━━━━━━━━━━━━━━━━━━━━━━━━━━━━━━━━━━━━╇━━━━━━━━━━━━━━━━━━━━━━━━━━━━━╇━━━━━━━━━━━━━━━━━┩\n",
       "│ gru_4 (\u001b[38;5;33mGRU\u001b[0m)                          │ (\u001b[38;5;45mNone\u001b[0m, \u001b[38;5;34m100\u001b[0m, \u001b[38;5;34m128\u001b[0m)            │          \u001b[38;5;34m53,376\u001b[0m │\n",
       "├──────────────────────────────────────┼─────────────────────────────┼─────────────────┤\n",
       "│ dropout_3 (\u001b[38;5;33mDropout\u001b[0m)                  │ (\u001b[38;5;45mNone\u001b[0m, \u001b[38;5;34m100\u001b[0m, \u001b[38;5;34m128\u001b[0m)            │               \u001b[38;5;34m0\u001b[0m │\n",
       "├──────────────────────────────────────┼─────────────────────────────┼─────────────────┤\n",
       "│ gru_5 (\u001b[38;5;33mGRU\u001b[0m)                          │ (\u001b[38;5;45mNone\u001b[0m, \u001b[38;5;34m100\u001b[0m, \u001b[38;5;34m128\u001b[0m)            │          \u001b[38;5;34m99,072\u001b[0m │\n",
       "├──────────────────────────────────────┼─────────────────────────────┼─────────────────┤\n",
       "│ batch_normalization_1                │ (\u001b[38;5;45mNone\u001b[0m, \u001b[38;5;34m100\u001b[0m, \u001b[38;5;34m128\u001b[0m)            │             \u001b[38;5;34m512\u001b[0m │\n",
       "│ (\u001b[38;5;33mBatchNormalization\u001b[0m)                 │                             │                 │\n",
       "├──────────────────────────────────────┼─────────────────────────────┼─────────────────┤\n",
       "│ gru_6 (\u001b[38;5;33mGRU\u001b[0m)                          │ (\u001b[38;5;45mNone\u001b[0m, \u001b[38;5;34m100\u001b[0m, \u001b[38;5;34m64\u001b[0m)             │          \u001b[38;5;34m37,248\u001b[0m │\n",
       "├──────────────────────────────────────┼─────────────────────────────┼─────────────────┤\n",
       "│ dropout_4 (\u001b[38;5;33mDropout\u001b[0m)                  │ (\u001b[38;5;45mNone\u001b[0m, \u001b[38;5;34m100\u001b[0m, \u001b[38;5;34m64\u001b[0m)             │               \u001b[38;5;34m0\u001b[0m │\n",
       "├──────────────────────────────────────┼─────────────────────────────┼─────────────────┤\n",
       "│ gru_7 (\u001b[38;5;33mGRU\u001b[0m)                          │ (\u001b[38;5;45mNone\u001b[0m, \u001b[38;5;34m32\u001b[0m)                  │           \u001b[38;5;34m9,408\u001b[0m │\n",
       "├──────────────────────────────────────┼─────────────────────────────┼─────────────────┤\n",
       "│ dense_2 (\u001b[38;5;33mDense\u001b[0m)                      │ (\u001b[38;5;45mNone\u001b[0m, \u001b[38;5;34m64\u001b[0m)                  │           \u001b[38;5;34m2,112\u001b[0m │\n",
       "├──────────────────────────────────────┼─────────────────────────────┼─────────────────┤\n",
       "│ dropout_5 (\u001b[38;5;33mDropout\u001b[0m)                  │ (\u001b[38;5;45mNone\u001b[0m, \u001b[38;5;34m64\u001b[0m)                  │               \u001b[38;5;34m0\u001b[0m │\n",
       "├──────────────────────────────────────┼─────────────────────────────┼─────────────────┤\n",
       "│ dense_3 (\u001b[38;5;33mDense\u001b[0m)                      │ (\u001b[38;5;45mNone\u001b[0m, \u001b[38;5;34m1\u001b[0m)                   │              \u001b[38;5;34m65\u001b[0m │\n",
       "└──────────────────────────────────────┴─────────────────────────────┴─────────────────┘\n"
      ]
     },
     "metadata": {},
     "output_type": "display_data"
    },
    {
     "data": {
      "text/html": [
       "<pre style=\"white-space:pre;overflow-x:auto;line-height:normal;font-family:Menlo,'DejaVu Sans Mono',consolas,'Courier New',monospace\"><span style=\"font-weight: bold\"> Total params: </span><span style=\"color: #00af00; text-decoration-color: #00af00\">201,793</span> (788.25 KB)\n",
       "</pre>\n"
      ],
      "text/plain": [
       "\u001b[1m Total params: \u001b[0m\u001b[38;5;34m201,793\u001b[0m (788.25 KB)\n"
      ]
     },
     "metadata": {},
     "output_type": "display_data"
    },
    {
     "data": {
      "text/html": [
       "<pre style=\"white-space:pre;overflow-x:auto;line-height:normal;font-family:Menlo,'DejaVu Sans Mono',consolas,'Courier New',monospace\"><span style=\"font-weight: bold\"> Trainable params: </span><span style=\"color: #00af00; text-decoration-color: #00af00\">201,537</span> (787.25 KB)\n",
       "</pre>\n"
      ],
      "text/plain": [
       "\u001b[1m Trainable params: \u001b[0m\u001b[38;5;34m201,537\u001b[0m (787.25 KB)\n"
      ]
     },
     "metadata": {},
     "output_type": "display_data"
    },
    {
     "data": {
      "text/html": [
       "<pre style=\"white-space:pre;overflow-x:auto;line-height:normal;font-family:Menlo,'DejaVu Sans Mono',consolas,'Courier New',monospace\"><span style=\"font-weight: bold\"> Non-trainable params: </span><span style=\"color: #00af00; text-decoration-color: #00af00\">256</span> (1.00 KB)\n",
       "</pre>\n"
      ],
      "text/plain": [
       "\u001b[1m Non-trainable params: \u001b[0m\u001b[38;5;34m256\u001b[0m (1.00 KB)\n"
      ]
     },
     "metadata": {},
     "output_type": "display_data"
    },
    {
     "name": "stdout",
     "output_type": "stream",
     "text": [
      "None\n",
      "Epoch 1/50\n",
      "\u001b[1m644/644\u001b[0m \u001b[32m━━━━━━━━━━━━━━━━━━━━\u001b[0m\u001b[37m\u001b[0m \u001b[1m243s\u001b[0m 347ms/step - loss: 0.0267 - mae: 0.1114 - val_loss: 3.6096e-04 - val_mae: 0.0150\n",
      "Epoch 2/50\n",
      "\u001b[1m644/644\u001b[0m \u001b[32m━━━━━━━━━━━━━━━━━━━━\u001b[0m\u001b[37m\u001b[0m \u001b[1m209s\u001b[0m 324ms/step - loss: 0.0047 - mae: 0.0514 - val_loss: 2.7761e-04 - val_mae: 0.0126\n",
      "Epoch 3/50\n",
      "\u001b[1m644/644\u001b[0m \u001b[32m━━━━━━━━━━━━━━━━━━━━\u001b[0m\u001b[37m\u001b[0m \u001b[1m229s\u001b[0m 355ms/step - loss: 0.0031 - mae: 0.0413 - val_loss: 0.0010 - val_mae: 0.0203\n",
      "Epoch 4/50\n",
      "\u001b[1m644/644\u001b[0m \u001b[32m━━━━━━━━━━━━━━━━━━━━\u001b[0m\u001b[37m\u001b[0m \u001b[1m223s\u001b[0m 347ms/step - loss: 0.0023 - mae: 0.0362 - val_loss: 5.3102e-04 - val_mae: 0.0146\n",
      "Epoch 5/50\n",
      "\u001b[1m644/644\u001b[0m \u001b[32m━━━━━━━━━━━━━━━━━━━━\u001b[0m\u001b[37m\u001b[0m \u001b[1m234s\u001b[0m 363ms/step - loss: 0.0020 - mae: 0.0334 - val_loss: 4.8421e-04 - val_mae: 0.0157\n",
      "Epoch 6/50\n",
      "\u001b[1m644/644\u001b[0m \u001b[32m━━━━━━━━━━━━━━━━━━━━\u001b[0m\u001b[37m\u001b[0m \u001b[1m230s\u001b[0m 357ms/step - loss: 0.0017 - mae: 0.0312 - val_loss: 0.0012 - val_mae: 0.0180\n",
      "Epoch 7/50\n",
      "\u001b[1m644/644\u001b[0m \u001b[32m━━━━━━━━━━━━━━━━━━━━\u001b[0m\u001b[37m\u001b[0m \u001b[1m231s\u001b[0m 358ms/step - loss: 0.0016 - mae: 0.0305 - val_loss: 9.7027e-04 - val_mae: 0.0169\n",
      "Epoch 8/50\n",
      "\u001b[1m644/644\u001b[0m \u001b[32m━━━━━━━━━━━━━━━━━━━━\u001b[0m\u001b[37m\u001b[0m \u001b[1m228s\u001b[0m 354ms/step - loss: 0.0015 - mae: 0.0293 - val_loss: 7.6012e-04 - val_mae: 0.0160\n",
      "Epoch 9/50\n",
      "\u001b[1m644/644\u001b[0m \u001b[32m━━━━━━━━━━━━━━━━━━━━\u001b[0m\u001b[37m\u001b[0m \u001b[1m221s\u001b[0m 344ms/step - loss: 0.0014 - mae: 0.0288 - val_loss: 5.1734e-04 - val_mae: 0.0137\n",
      "Epoch 10/50\n",
      "\u001b[1m644/644\u001b[0m \u001b[32m━━━━━━━━━━━━━━━━━━━━\u001b[0m\u001b[37m\u001b[0m \u001b[1m220s\u001b[0m 341ms/step - loss: 0.0014 - mae: 0.0287 - val_loss: 0.0018 - val_mae: 0.0283\n",
      "Epoch 11/50\n",
      "\u001b[1m644/644\u001b[0m \u001b[32m━━━━━━━━━━━━━━━━━━━━\u001b[0m\u001b[37m\u001b[0m \u001b[1m218s\u001b[0m 338ms/step - loss: 0.0014 - mae: 0.0284 - val_loss: 0.0017 - val_mae: 0.0329\n",
      "Epoch 11: early stopping\n",
      "Restoring model weights from the end of the best epoch: 1.\n"
     ]
    },
    {
     "name": "stderr",
     "output_type": "stream",
     "text": [
      "WARNING:absl:You are saving your model as an HDF5 file via `model.save()` or `keras.saving.save_model(model)`. This file format is considered legacy. We recommend using instead the native Keras format, e.g. `model.save('my_model.keras')` or `keras.saving.save_model(model, 'my_model.keras')`. \n"
     ]
    },
    {
     "name": "stdout",
     "output_type": "stream",
     "text": [
      "✅Model Succesfully Trained and Store as 'lstm_model.h5' \n"
     ]
    }
   ],
   "source": [
    "if __name__ == \"__main__\":\n",
    "    main()"
   ]
  },
  {
   "cell_type": "code",
   "execution_count": null,
   "id": "b4daf9ca-2f62-43de-aa73-e70ce9c8fd02",
   "metadata": {},
   "outputs": [],
   "source": []
  },
  {
   "cell_type": "code",
   "execution_count": null,
   "id": "f6438ab1-699c-490e-8b3b-b3ec48ab74c0",
   "metadata": {},
   "outputs": [],
   "source": []
  },
  {
   "cell_type": "code",
   "execution_count": null,
   "id": "9101da59-2f60-4534-8ccc-4f3040aa5b5e",
   "metadata": {},
   "outputs": [],
   "source": []
  },
  {
   "cell_type": "code",
   "execution_count": null,
   "id": "8a426243-aabd-4e32-8de7-34b6a616a282",
   "metadata": {},
   "outputs": [],
   "source": []
  },
  {
   "cell_type": "code",
   "execution_count": null,
   "id": "f22bfff4-e313-4f0a-8c2a-042f900d42ce",
   "metadata": {},
   "outputs": [],
   "source": []
  },
  {
   "cell_type": "code",
   "execution_count": null,
   "id": "e733077f-6cc5-4fd2-9c73-694ecdeafdbd",
   "metadata": {},
   "outputs": [],
   "source": []
  },
  {
   "cell_type": "code",
   "execution_count": null,
   "id": "736c6ad0-04a4-4ecc-8378-692872a6c367",
   "metadata": {},
   "outputs": [],
   "source": []
  },
  {
   "cell_type": "code",
   "execution_count": null,
   "id": "ec3f5b0c-0573-4cb9-87a5-fe26c74c9c06",
   "metadata": {},
   "outputs": [],
   "source": []
  },
  {
   "cell_type": "code",
   "execution_count": null,
   "id": "f9c1332f-843c-47d6-af5b-b747bc0cb1d0",
   "metadata": {},
   "outputs": [],
   "source": []
  },
  {
   "cell_type": "code",
   "execution_count": null,
   "id": "916fe0fe-106f-4cdd-9b5f-27870a6e93c5",
   "metadata": {},
   "outputs": [],
   "source": []
  },
  {
   "cell_type": "code",
   "execution_count": null,
   "id": "fc33210d-b968-4640-b9ff-fef5c1996300",
   "metadata": {},
   "outputs": [],
   "source": []
  },
  {
   "cell_type": "code",
   "execution_count": null,
   "id": "525a41d7-f66b-4ba8-9a74-6f0a33827e91",
   "metadata": {},
   "outputs": [],
   "source": []
  },
  {
   "cell_type": "code",
   "execution_count": null,
   "id": "f101d2fc-5942-42a2-9c5e-a5b5b4dc3eeb",
   "metadata": {},
   "outputs": [],
   "source": []
  },
  {
   "cell_type": "code",
   "execution_count": null,
   "id": "a3babe29-f5c5-4949-82a7-18b361fb8d17",
   "metadata": {},
   "outputs": [],
   "source": []
  },
  {
   "cell_type": "code",
   "execution_count": null,
   "id": "07ad2280-0165-46cd-a44e-3cc9dbffce52",
   "metadata": {},
   "outputs": [],
   "source": []
  },
  {
   "cell_type": "code",
   "execution_count": null,
   "id": "72a780d8-b5d9-4102-9c85-1cf1e51b4ce1",
   "metadata": {},
   "outputs": [],
   "source": []
  }
 ],
 "metadata": {
  "kernelspec": {
   "display_name": "Python 3 (ipykernel)",
   "language": "python",
   "name": "python3"
  },
  "language_info": {
   "codemirror_mode": {
    "name": "ipython",
    "version": 3
   },
   "file_extension": ".py",
   "mimetype": "text/x-python",
   "name": "python",
   "nbconvert_exporter": "python",
   "pygments_lexer": "ipython3",
   "version": "3.11.9"
  }
 },
 "nbformat": 4,
 "nbformat_minor": 5
}
